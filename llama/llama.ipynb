{
 "cells": [
  {
   "cell_type": "code",
   "execution_count": 1,
   "id": "72b5aa7a-1ab9-4a5d-9456-385455baac40",
   "metadata": {
    "tags": []
   },
   "outputs": [
    {
     "name": "stderr",
     "output_type": "stream",
     "text": [
      "/dvmm-filer2/users/kevin/miniconda3/envs/allinone/lib/python3.7/site-packages/tqdm/auto.py:21: TqdmWarning: IProgress not found. Please update jupyter and ipywidgets. See https://ipywidgets.readthedocs.io/en/stable/user_install.html\n",
      "  from .autonotebook import tqdm as notebook_tqdm\n"
     ]
    }
   ],
   "source": [
    "import os\n",
    "import sys\n",
    "import json\n",
    "import glob\n",
    "import torch\n",
    "import shutil\n",
    "import argparse\n",
    "import numpy as np\n",
    "import pickle as pk\n",
    "from tqdm import tqdm\n",
    "from torch.utils.data import Dataset, DataLoader\n",
    "\n",
    "allinone_path = os.path.dirname(os.getcwd())\n",
    "sys.path.append(allinone_path)\n",
    "\n",
    "from AllInOne.datasets import ActivityNetDataset\n",
    "from transformers import LlamaForCausalLM, LlamaTokenizer"
   ]
  },
  {
   "cell_type": "code",
   "execution_count": null,
   "id": "efdc0927-c4fb-4eee-8d3c-1ae2f4fe762e",
   "metadata": {},
   "outputs": [],
   "source": []
  },
  {
   "cell_type": "code",
   "execution_count": 3,
   "id": "f9439c15-8f0c-4135-b299-deddf614a4b9",
   "metadata": {
    "tags": []
   },
   "outputs": [],
   "source": [
    "def load_dataloader():\n",
    "    dataset = ActivityNetDataset(\n",
    "        split='test', \n",
    "        num_frames=3, \n",
    "        image_size=224, \n",
    "        max_text_len=40, \n",
    "        masking_type='image', \n",
    "        masking_prob=0.0,\n",
    "        transform=True,\n",
    "        use_git=False,\n",
    "    )\n",
    "    dataloader = DataLoader(\n",
    "        dataset, \n",
    "        shuffle=False, \n",
    "        num_workers=15, \n",
    "        batch_size=1,\n",
    "    )\n",
    "    return dataloader"
   ]
  },
  {
   "cell_type": "code",
   "execution_count": null,
   "id": "da8f1814-eb97-4e1e-b530-237ecf844510",
   "metadata": {},
   "outputs": [],
   "source": []
  },
  {
   "cell_type": "code",
   "execution_count": null,
   "id": "760f3c43-db79-4114-b563-9eb72c6b98e5",
   "metadata": {},
   "outputs": [],
   "source": []
  },
  {
   "cell_type": "code",
   "execution_count": null,
   "id": "f0976857-f553-45a4-b35b-cec03d3e823d",
   "metadata": {},
   "outputs": [],
   "source": []
  },
  {
   "cell_type": "code",
   "execution_count": 2,
   "id": "ee2222b6-c199-4a26-9d10-7d2c76b179a8",
   "metadata": {
    "tags": []
   },
   "outputs": [],
   "source": [
    "# text zeroshot\n",
    "PROMPT=\"\"\"<s>[INST] <<SYS>>\n",
    "In this task, you will be given two texts which summarize two different events. \n",
    "Your task is to determine if whether or not the first event starts or ends before or after the second event.\n",
    "\n",
    "Each problem has all of the following information:\n",
    "- A summary of the two events, each in a different line\n",
    "- A relationship token (starts or ends) which indicates whether to compare the start or end times of the two events respectively\n",
    "\n",
    "<</SYS>>\n",
    "Event 1: He adds oil to the pan while talking to the camera . He then stir fries the chopped vegetables .\n",
    "Event 2: He is shown putting on an apron and then turning the stove top to high heat .\n",
    "\n",
    "Does event 1 start before or after event 2? Please choose between before and after. Please answer in json format with explanation.\n",
    "[/INST]{\"answer\": \"after\", \"explanation\": \"The man must first turn on the heat before being able to stir fry the vegetables.\"}</s>\n",
    "<s>[INST]\"\"\"\n",
    "# ------------------------------------------------------------------- # \n",
    "# multimodal\n",
    "# PROMPT=\"\"\"<s>[INST] <<SYS>>\n",
    "# In this task, you will be given two texts which summarize two different events. \n",
    "# Your task is to determine if whether or not the first event starts or ends before or after the second event.\n",
    "\n",
    "# Each problem has all of the following information:\n",
    "# - A summary of the two events, each in a different line\n",
    "# - A relationship token (starts or ends) which indicates whether to compare the start or end times of the two events respectively\n",
    "\n",
    "# For each sample, please choose between before and after. Please answer in json format with explanation. \n",
    "# An example of a properly formatted answer: {\"answer\": \"after\", \"explanation\": \"The man must first turn on the heat before being able to stir fry the vegetables.\"}\n",
    "\n",
    "# <</SYS>>\n",
    "# <s>[INST]\"\"\""
   ]
  },
  {
   "cell_type": "code",
   "execution_count": null,
   "id": "2bb4fd27-8bc9-455d-ad21-e32ff73d7218",
   "metadata": {},
   "outputs": [],
   "source": []
  },
  {
   "cell_type": "code",
   "execution_count": 4,
   "id": "33b72654-1b37-4f68-80cd-bcf0cbd2d33f",
   "metadata": {
    "tags": []
   },
   "outputs": [
    {
     "name": "stdout",
     "output_type": "stream",
     "text": [
      "using test_19k.json\n"
     ]
    },
    {
     "ename": "FileNotFoundError",
     "evalue": "[Errno 2] No such file or directory: './metadata/test_19k.json'",
     "output_type": "error",
     "traceback": [
      "\u001b[0;31m---------------------------------------------------------------------------\u001b[0m",
      "\u001b[0;31mFileNotFoundError\u001b[0m                         Traceback (most recent call last)",
      "\u001b[0;32m/tmp/ipykernel_71667/3302692192.py\u001b[0m in \u001b[0;36m<module>\u001b[0;34m\u001b[0m\n\u001b[0;32m----> 1\u001b[0;31m \u001b[0mdataloader\u001b[0m \u001b[0;34m=\u001b[0m \u001b[0mload_dataloader\u001b[0m\u001b[0;34m(\u001b[0m\u001b[0;34m)\u001b[0m\u001b[0;34m\u001b[0m\u001b[0;34m\u001b[0m\u001b[0m\n\u001b[0m",
      "\u001b[0;32m/tmp/ipykernel_71667/3351622624.py\u001b[0m in \u001b[0;36mload_dataloader\u001b[0;34m()\u001b[0m\n\u001b[1;32m      8\u001b[0m         \u001b[0mmasking_prob\u001b[0m\u001b[0;34m=\u001b[0m\u001b[0;36m0.0\u001b[0m\u001b[0;34m,\u001b[0m\u001b[0;34m\u001b[0m\u001b[0;34m\u001b[0m\u001b[0m\n\u001b[1;32m      9\u001b[0m         \u001b[0mtransform\u001b[0m\u001b[0;34m=\u001b[0m\u001b[0;32mTrue\u001b[0m\u001b[0;34m,\u001b[0m\u001b[0;34m\u001b[0m\u001b[0;34m\u001b[0m\u001b[0m\n\u001b[0;32m---> 10\u001b[0;31m         \u001b[0muse_git\u001b[0m\u001b[0;34m=\u001b[0m\u001b[0;32mFalse\u001b[0m\u001b[0;34m,\u001b[0m\u001b[0;34m\u001b[0m\u001b[0;34m\u001b[0m\u001b[0m\n\u001b[0m\u001b[1;32m     11\u001b[0m     )\n\u001b[1;32m     12\u001b[0m     dataloader = DataLoader(\n",
      "\u001b[0;32m/dvmm-filer3a/users/nrdyava/temporal-relations/AllInOne/datasets/activitynet.py\u001b[0m in \u001b[0;36m__init__\u001b[0;34m(self, split, num_frames, image_size, max_text_len, masking_type, masking_prob, transform, use_clip, use_git)\u001b[0m\n\u001b[1;32m     58\u001b[0m         \u001b[0;32melif\u001b[0m \u001b[0msplit\u001b[0m \u001b[0;34m==\u001b[0m \u001b[0;34m\"test\"\u001b[0m\u001b[0;34m:\u001b[0m\u001b[0;34m\u001b[0m\u001b[0;34m\u001b[0m\u001b[0m\n\u001b[1;32m     59\u001b[0m             \u001b[0mnames\u001b[0m \u001b[0;34m=\u001b[0m \u001b[0;34m[\u001b[0m\u001b[0;34m\"activitynet_test\"\u001b[0m\u001b[0;34m]\u001b[0m\u001b[0;34m\u001b[0m\u001b[0;34m\u001b[0m\u001b[0m\n\u001b[0;32m---> 60\u001b[0;31m         \u001b[0mself\u001b[0m\u001b[0;34m.\u001b[0m\u001b[0m_load_metadata\u001b[0m\u001b[0;34m(\u001b[0m\u001b[0;34m)\u001b[0m\u001b[0;34m\u001b[0m\u001b[0;34m\u001b[0m\u001b[0m\n\u001b[0m\u001b[1;32m     61\u001b[0m         self.video_transform = VideoTransform(\n\u001b[1;32m     62\u001b[0m             \u001b[0mmode\u001b[0m\u001b[0;34m=\u001b[0m\u001b[0mself\u001b[0m\u001b[0;34m.\u001b[0m\u001b[0msplit\u001b[0m\u001b[0;34m,\u001b[0m\u001b[0;34m\u001b[0m\u001b[0;34m\u001b[0m\u001b[0m\n",
      "\u001b[0;32m/dvmm-filer3a/users/nrdyava/temporal-relations/AllInOne/datasets/activitynet.py\u001b[0m in \u001b[0;36m_load_metadata\u001b[0;34m(self)\u001b[0m\n\u001b[1;32m     75\u001b[0m         \u001b[0mtarget_split_fp\u001b[0m \u001b[0;34m=\u001b[0m \u001b[0msplit_files\u001b[0m\u001b[0;34m[\u001b[0m\u001b[0mself\u001b[0m\u001b[0;34m.\u001b[0m\u001b[0msplit\u001b[0m\u001b[0;34m]\u001b[0m\u001b[0;34m\u001b[0m\u001b[0;34m\u001b[0m\u001b[0m\n\u001b[1;32m     76\u001b[0m         \u001b[0mprint\u001b[0m\u001b[0;34m(\u001b[0m\u001b[0;34m'using'\u001b[0m\u001b[0;34m,\u001b[0m \u001b[0mtarget_split_fp\u001b[0m\u001b[0;34m)\u001b[0m\u001b[0;34m\u001b[0m\u001b[0;34m\u001b[0m\u001b[0m\n\u001b[0;32m---> 77\u001b[0;31m         \u001b[0mmetadata\u001b[0m \u001b[0;34m=\u001b[0m \u001b[0mjson\u001b[0m\u001b[0;34m.\u001b[0m\u001b[0mload\u001b[0m\u001b[0;34m(\u001b[0m\u001b[0mopen\u001b[0m\u001b[0;34m(\u001b[0m\u001b[0mos\u001b[0m\u001b[0;34m.\u001b[0m\u001b[0mpath\u001b[0m\u001b[0;34m.\u001b[0m\u001b[0mjoin\u001b[0m\u001b[0;34m(\u001b[0m\u001b[0mmetadata_dir\u001b[0m\u001b[0;34m,\u001b[0m \u001b[0mtarget_split_fp\u001b[0m\u001b[0;34m)\u001b[0m\u001b[0;34m,\u001b[0m \u001b[0;34m'r'\u001b[0m\u001b[0;34m)\u001b[0m\u001b[0;34m)\u001b[0m\u001b[0;34m\u001b[0m\u001b[0;34m\u001b[0m\u001b[0m\n\u001b[0m\u001b[1;32m     78\u001b[0m         \u001b[0mmeta\u001b[0m \u001b[0;34m=\u001b[0m \u001b[0;34m[\u001b[0m\u001b[0;34m]\u001b[0m\u001b[0;34m\u001b[0m\u001b[0;34m\u001b[0m\u001b[0m\n\u001b[1;32m     79\u001b[0m         \u001b[0;32mfor\u001b[0m \u001b[0mkey\u001b[0m\u001b[0;34m,\u001b[0m \u001b[0mvalue\u001b[0m \u001b[0;32min\u001b[0m \u001b[0mmetadata\u001b[0m\u001b[0;34m.\u001b[0m\u001b[0mitems\u001b[0m\u001b[0;34m(\u001b[0m\u001b[0;34m)\u001b[0m\u001b[0;34m:\u001b[0m\u001b[0;34m\u001b[0m\u001b[0;34m\u001b[0m\u001b[0m\n",
      "\u001b[0;31mFileNotFoundError\u001b[0m: [Errno 2] No such file or directory: './metadata/test_19k.json'"
     ]
    }
   ],
   "source": [
    "dataloader = load_dataloader()"
   ]
  },
  {
   "cell_type": "code",
   "execution_count": null,
   "id": "19d5a81f-c4f2-4280-af71-1a540c8813ee",
   "metadata": {},
   "outputs": [],
   "source": []
  },
  {
   "cell_type": "code",
   "execution_count": null,
   "id": "44b9c803-6829-4857-816e-801ac8ec681a",
   "metadata": {},
   "outputs": [],
   "source": []
  },
  {
   "cell_type": "code",
   "execution_count": null,
   "id": "40a936f6-1e12-4419-9179-227ef716cff7",
   "metadata": {},
   "outputs": [],
   "source": []
  },
  {
   "cell_type": "code",
   "execution_count": null,
   "id": "2dcb2392-de13-4db3-a53c-7607c23a0468",
   "metadata": {},
   "outputs": [],
   "source": []
  },
  {
   "cell_type": "code",
   "execution_count": null,
   "id": "09612a9c-0fd1-4cd4-aaee-07381152fef6",
   "metadata": {},
   "outputs": [],
   "source": []
  },
  {
   "cell_type": "code",
   "execution_count": null,
   "id": "742a64ac-40bb-4ee3-a9dd-9c5a555625c9",
   "metadata": {},
   "outputs": [],
   "source": []
  },
  {
   "cell_type": "code",
   "execution_count": null,
   "id": "9de420aa-2722-4449-8c12-e39421486242",
   "metadata": {},
   "outputs": [],
   "source": []
  },
  {
   "cell_type": "code",
   "execution_count": null,
   "id": "58f435e9-3ee7-4679-8286-36f8e643cdbe",
   "metadata": {},
   "outputs": [],
   "source": []
  },
  {
   "cell_type": "code",
   "execution_count": null,
   "id": "50378726-2ea6-4f94-8262-a9f8884219fd",
   "metadata": {},
   "outputs": [],
   "source": []
  },
  {
   "cell_type": "code",
   "execution_count": null,
   "id": "7a7015ee-2655-4c02-8e23-e77bf71fbc4d",
   "metadata": {},
   "outputs": [],
   "source": []
  },
  {
   "cell_type": "code",
   "execution_count": null,
   "id": "709cfec4-56fe-430b-899e-ef0f1e0715b0",
   "metadata": {},
   "outputs": [],
   "source": [
    "\n"
   ]
  },
  {
   "cell_type": "code",
   "execution_count": null,
   "id": "8924365b-1844-44bf-ba89-f836d8d500db",
   "metadata": {},
   "outputs": [],
   "source": []
  },
  {
   "cell_type": "code",
   "execution_count": null,
   "id": "ac73e086-a820-40b5-bf61-c6986f0c2189",
   "metadata": {},
   "outputs": [],
   "source": []
  },
  {
   "cell_type": "code",
   "execution_count": null,
   "id": "719178ed-5165-476e-8065-903e038af6fd",
   "metadata": {},
   "outputs": [],
   "source": []
  },
  {
   "cell_type": "code",
   "execution_count": null,
   "id": "e03755f7-3def-4cbd-b1bd-219e9d83590a",
   "metadata": {},
   "outputs": [],
   "source": []
  },
  {
   "cell_type": "code",
   "execution_count": null,
   "id": "45736b93-7448-4048-af24-7e78989edaea",
   "metadata": {},
   "outputs": [],
   "source": []
  },
  {
   "cell_type": "code",
   "execution_count": null,
   "id": "a9c13980-88a4-4dfe-9c85-df0d147845c2",
   "metadata": {},
   "outputs": [],
   "source": []
  },
  {
   "cell_type": "code",
   "execution_count": null,
   "id": "04dfa4e1-eeed-4239-8e45-23fd96c24d6b",
   "metadata": {},
   "outputs": [],
   "source": []
  },
  {
   "cell_type": "code",
   "execution_count": null,
   "id": "ee115769-b096-45e5-89dd-e881dba666e5",
   "metadata": {},
   "outputs": [],
   "source": []
  },
  {
   "cell_type": "code",
   "execution_count": null,
   "id": "ee855777-35ef-4a8f-92b5-e5cdefcd5e28",
   "metadata": {},
   "outputs": [],
   "source": []
  }
 ],
 "metadata": {
  "kernelspec": {
   "display_name": "Python 3 (ipykernel)",
   "language": "python",
   "name": "python3"
  },
  "language_info": {
   "codemirror_mode": {
    "name": "ipython",
    "version": 3
   },
   "file_extension": ".py",
   "mimetype": "text/x-python",
   "name": "python",
   "nbconvert_exporter": "python",
   "pygments_lexer": "ipython3",
   "version": "3.7.16"
  }
 },
 "nbformat": 4,
 "nbformat_minor": 5
}
