{
 "cells": [
  {
   "cell_type": "code",
   "execution_count": 1,
   "id": "567bfe58-6a62-4e66-a876-7e36fade604d",
   "metadata": {},
   "outputs": [],
   "source": [
    "from openai import OpenAI\n",
    "import json\n",
    "import csv\n",
    "from tqdm import tqdm\n",
    "with open('/burg/home/nd2794/keys.json', 'r') as file:\n",
    "    keys = json.load(file)"
   ]
  },
  {
   "cell_type": "code",
   "execution_count": null,
   "id": "7d3d300b-f1d7-4de6-82e1-cca20a0f6a4e",
   "metadata": {},
   "outputs": [],
   "source": []
  },
  {
   "cell_type": "code",
   "execution_count": 2,
   "id": "e099d3c7-ff6e-4993-bec8-92f157948972",
   "metadata": {},
   "outputs": [],
   "source": [
    "client = OpenAI(api_key=keys['openai_token'])"
   ]
  },
  {
   "cell_type": "code",
   "execution_count": null,
   "id": "1c413377-5470-4836-a8ef-65a5983fdce6",
   "metadata": {},
   "outputs": [],
   "source": []
  },
  {
   "cell_type": "code",
   "execution_count": null,
   "id": "7796433a-dcd1-4cfe-8db4-53d3190bfefd",
   "metadata": {},
   "outputs": [],
   "source": []
  },
  {
   "cell_type": "code",
   "execution_count": 3,
   "id": "146d6d52-0588-4e24-b0fb-05bc25ec3d86",
   "metadata": {},
   "outputs": [],
   "source": [
    "system_message = {\n",
    "    \"role\": \"system\",\n",
    "    \"content\": [\n",
    "        {\n",
    "            \"text\": \"In this task, you will be given two texts which summarize two different events. \\nThe two events may be from the same context, but may also be unrelated or have a weak relationship.\\nYour task is to determine if the two events have a likely temporal relation, meaning one procedes the other.\\n\\nEach problem has all of the following information:\\n- A summary of the two events, each in a different line\",\n",
    "            \"type\": \"text\"\n",
    "        }\n",
    "    ]\n",
    "}\n",
    "\n",
    "user_message_1 = {\n",
    "    \"role\": \"user\",\n",
    "    \"content\": [\n",
    "        {\n",
    "            \"text\": \"Event 1: The man in the grey and white shirt enters the enclosed squash court picks up some of the balls and proceeds to load the squash cannon serving machines.\\nEvent 2: A man wearing a white and grey shirt serves in a practice squash session and another man wearing a purple shirt returns the serves in an enclosed squash court.\\n\\nDo the two events summarized above have a temporal relationship? Please choose between Yes and No. Please answer in json format with explanation.\",\n",
    "            \"type\": \"text\"\n",
    "        }\n",
    "    ]\n",
    "}\n",
    "\n",
    "assistant_messge_1 = {\n",
    "    \"role\": \"assistant\",\n",
    "    \"content\": [\n",
    "        {\n",
    "            \"text\": \"{\\\"answer\\\": \\\"Yes\\\", \\\"explanation\\\": \\\"The serving machine must be loaded with balls before the man can practice serving.\\\"}\",\n",
    "            \"type\": \"text\"\n",
    "        }\n",
    "    ]\n",
    "}\n",
    "\n",
    "user_message_2 = {\n",
    "    \"role\": \"user\",\n",
    "    \"content\": [\n",
    "        {\n",
    "            \"text\": \"Event 1: Sumo wrestlers lift up legs and then crouch .\\nEvent 2: Sumo wrestlers eat food in the dojo .\\n\\nDo the two events summarized above have a temporal relationship? Please choose between Yes and No. Please answer in json format with explanation.\",\n",
    "            \"type\": \"text\"\n",
    "        }\n",
    "    ]\n",
    "}\n",
    "\n",
    "assistant_messge_2 = {\n",
    "    \"role\": \"assistant\",\n",
    "    \"content\": [\n",
    "        {\n",
    "            \"text\": \"{\\\"answer\\\": \\\"No\\\", \\\"explanation\\\": \\\"It is ambiguous which event comes first as neither must necessarily precede the other.\\\"}\",\n",
    "            \"type\": \"text\"\n",
    "        }\n",
    "    ]\n",
    "}\n",
    "\n",
    "INSTRUCTION = \"Do the two events summarized above have a temporal relationship? Please choose between Yes and No. Please answer in json format with explanation.\""
   ]
  },
  {
   "cell_type": "code",
   "execution_count": null,
   "id": "3200ad3b-7531-47d0-a196-fb46f5003262",
   "metadata": {},
   "outputs": [],
   "source": []
  },
  {
   "cell_type": "code",
   "execution_count": null,
   "id": "13aa966f-fd8e-4f9c-abab-159eefaaac9f",
   "metadata": {},
   "outputs": [],
   "source": []
  },
  {
   "cell_type": "code",
   "execution_count": 4,
   "id": "4bafe7c6-8f60-481b-91cb-70ff9395227c",
   "metadata": {},
   "outputs": [],
   "source": [
    "def run_llama_subset():\n",
    "    fname = '../data_viz/samples_200.csv'\n",
    "    with open(fname, newline='') as f:\n",
    "        reader = csv.reader(f)\n",
    "        data = list(reader)\n",
    "\n",
    "    llama_outputs = []\n",
    "\n",
    "    for sample in tqdm(data[1:]):\n",
    "        idx = sample[0]\n",
    "        um_3 = 'Event 1: ' + sample[1] + '\\nEvent 2: ' + sample[2] + '\\n\\n' + INSTRUCTION\n",
    "\n",
    "        user_message_3 = {\n",
    "            \"role\": \"user\",\n",
    "            \"content\": [\n",
    "                {\n",
    "                    \"text\": um_3,\n",
    "                    \"type\": \"text\"\n",
    "                }\n",
    "            ]\n",
    "        }\n",
    "\n",
    "        messages=[\n",
    "            system_message,\n",
    "            user_message_1,\n",
    "            assistant_messge_1,\n",
    "            user_message_2,\n",
    "            assistant_messge_2,\n",
    "            user_message_3\n",
    "        ]\n",
    "\n",
    "        response = client.chat.completions.create(\n",
    "            model=\"gpt-4o-mini-2024-07-18\",\n",
    "            response_format={\"type\": \"json_object\"},\n",
    "            messages=messages,\n",
    "            temperature=1,\n",
    "            max_tokens=3000,\n",
    "            top_p=1,\n",
    "            frequency_penalty=0,\n",
    "            presence_penalty=0\n",
    "        )\n",
    "\n",
    "        answer_json_str1 = response.choices[0].message.content\n",
    "        \n",
    "        try:\n",
    "            answer_json = json.loads(answer_json_str1)\n",
    "            answer = answer_json['answer']\n",
    "            explanation = answer_json['explanation']\n",
    "        except:\n",
    "            try:\n",
    "                last_inst_idx = output.rfind('{')\n",
    "                answer_json_str2 = output[last_inst_idx:]\n",
    "                answer_json = json.loads(answer_json_str2)\n",
    "                answer = answer_json['answer']\n",
    "                explanation = answer_json['explanation']\n",
    "            except:\n",
    "                answer = 'unclear'\n",
    "                explanation = 'none'\n",
    "\n",
    "        sample[-1] = answer\n",
    "        sample.append(explanation)\n",
    "\n",
    "    with open('../data_viz/samples_200_openai-gpt-4o-mini-2024-07-18.csv', 'w', newline='') as f:\n",
    "        writer = csv.writer(f)\n",
    "        writer.writerows(data)\n",
    "    return"
   ]
  },
  {
   "cell_type": "code",
   "execution_count": null,
   "id": "7382891e-6a03-4d63-b81b-07d48989047b",
   "metadata": {},
   "outputs": [],
   "source": []
  },
  {
   "cell_type": "code",
   "execution_count": 5,
   "id": "6ac665b3-3da8-4db2-8e49-92133a91a962",
   "metadata": {},
   "outputs": [
    {
     "name": "stderr",
     "output_type": "stream",
     "text": [
      "100%|██████████| 200/200 [04:16<00:00,  1.28s/it]\n"
     ]
    }
   ],
   "source": [
    "run_llama_subset()"
   ]
  },
  {
   "cell_type": "code",
   "execution_count": null,
   "id": "9b600608-689a-4b5e-912b-6b1a1630075d",
   "metadata": {},
   "outputs": [],
   "source": []
  },
  {
   "cell_type": "code",
   "execution_count": null,
   "id": "f5c48105-3aeb-407e-9f74-25143c685dff",
   "metadata": {},
   "outputs": [],
   "source": []
  },
  {
   "cell_type": "code",
   "execution_count": null,
   "id": "16b832fd-55fb-47c1-baa2-aaa421667327",
   "metadata": {},
   "outputs": [],
   "source": []
  },
  {
   "cell_type": "code",
   "execution_count": 4,
   "id": "eb5363a0-68b0-49ec-9835-5226373c9ec9",
   "metadata": {},
   "outputs": [],
   "source": [
    "fname = '../data_viz/samples_200.csv'\n",
    "with open(fname, newline='') as f:\n",
    "    reader = csv.reader(f)\n",
    "    data = list(reader)"
   ]
  },
  {
   "cell_type": "code",
   "execution_count": null,
   "id": "619e74cd-6edb-4baa-8671-b1e9302373e6",
   "metadata": {},
   "outputs": [],
   "source": []
  },
  {
   "cell_type": "code",
   "execution_count": null,
   "id": "ebe3294e-f113-4833-96e9-dda422bdcdeb",
   "metadata": {},
   "outputs": [],
   "source": []
  },
  {
   "cell_type": "code",
   "execution_count": null,
   "id": "3fae05f8-ae22-41a1-933c-7c48dcd6ddfd",
   "metadata": {},
   "outputs": [],
   "source": []
  },
  {
   "cell_type": "code",
   "execution_count": null,
   "id": "b9a8e403-6d17-4bb6-aecb-630e9304a37f",
   "metadata": {},
   "outputs": [],
   "source": []
  },
  {
   "cell_type": "code",
   "execution_count": null,
   "id": "9096d2b1-42a1-413e-84ec-251b0db0646f",
   "metadata": {},
   "outputs": [],
   "source": []
  },
  {
   "cell_type": "code",
   "execution_count": null,
   "id": "923f0804-446f-41cd-89bc-1ec7521c9ea3",
   "metadata": {},
   "outputs": [],
   "source": []
  }
 ],
 "metadata": {
  "kernelspec": {
   "display_name": "Python 3 (ipykernel)",
   "language": "python",
   "name": "python3"
  },
  "language_info": {
   "codemirror_mode": {
    "name": "ipython",
    "version": 3
   },
   "file_extension": ".py",
   "mimetype": "text/x-python",
   "name": "python",
   "nbconvert_exporter": "python",
   "pygments_lexer": "ipython3",
   "version": "3.11.9"
  }
 },
 "nbformat": 4,
 "nbformat_minor": 5
}
